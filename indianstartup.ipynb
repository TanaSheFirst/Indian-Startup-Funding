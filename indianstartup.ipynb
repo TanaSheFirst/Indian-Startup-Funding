{
 "cells": [
  {
   "cell_type": "markdown",
   "metadata": {},
   "source": [
    "# Indian Startup Funding Analysis"
   ]
  },
  {
   "cell_type": "markdown",
   "metadata": {},
   "source": [
    "## Business Understanding"
   ]
  },
  {
   "cell_type": "markdown",
   "metadata": {},
   "source": [
    "### Background"
   ]
  },
  {
   "cell_type": "markdown",
   "metadata": {},
   "source": [
    "A *'Startup'* in India is characterized by it's age, size and funding method, though there isn't a strict definition. Generally, a startup is a young company, only a few years old, that hasn't yet achieved any consistent revenue. These companies operate on a small scale, often with just a working prototype or a paid pilot but they have the potential for rapid growth and expansion. Initially, they are founded by the founders' personal networks, including friends and family and they actively seek additional financing to support their growth and establish a sustainable business."
   ]
  },
  {
   "cell_type": "markdown",
   "metadata": {},
   "source": [
    "As an example, the government of India's startup program defines a startup as a company (PB 2017) that is;\n",
    "-  Headquartered in India with not more than 10 years since incorporation or registration\n",
    "-  Having an annual turnover of less than 1NR Billion (Roughly $14 million)\n",
    "\n",
    "~Available~ [ADBI Working Paper series](https://www.adb.org/publications/policy-regulatory-changes-successful-startup-revolution-india)\n"
   ]
  },
  {
   "cell_type": "markdown",
   "metadata": {},
   "source": [
    "#### Scenario\n",
    "You are trying to venture intro the Indian Startup ecosytem. As the data exxpert of the team, you are to investigate the ecosystem and propose the best course of action."
   ]
  },
  {
   "cell_type": "markdown",
   "metadata": {},
   "source": [
    "## Business Objective;\n",
    "\n",
    "The goal of this project is to investigate the Indian Startup ecosystem to better understand and provide valuabale insight into the opportunities and challenges in the ecosystem to help stakeholders  who plan on venturing into the startup ecosystem in India to make informed decisons based on findings from analyzing the dataset from 2018 to 2021."
   ]
  },
  {
   "cell_type": "markdown",
   "metadata": {},
   "source": [
    "## Hypothesis\n",
    "\n",
    "Null;  Funding amount received by tech startups does not differ significantly from non-tech startups.\n",
    "Alternate; Funding amount received by tech startups differs significantly  from non-tech startups."
   ]
  }
 ],
 "metadata": {
  "language_info": {
   "name": "python"
  }
 },
 "nbformat": 4,
 "nbformat_minor": 2
}
