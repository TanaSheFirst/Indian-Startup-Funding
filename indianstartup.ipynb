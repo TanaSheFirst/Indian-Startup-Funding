{
 "cells": [
  {
   "cell_type": "markdown",
   "metadata": {},
   "source": [
    "# Indian Startup Funding Analysis"
   ]
  },
  {
   "cell_type": "markdown",
   "metadata": {},
   "source": [
    "## Business Understanding"
   ]
  },
  {
   "cell_type": "markdown",
   "metadata": {},
   "source": [
    "### Background"
   ]
  },
  {
   "cell_type": "markdown",
   "metadata": {},
   "source": [
    "A *'Startup'* in India is characterized by it's age, size and funding method, though there isn't a strict definition. Generally, a startup is a young company, only a few years old, that hasn't yet achieved any consistent revenue. These companies operate on a small scale, often with just a working prototype or a paid pilot but they have the potential for rapid growth and expansion. Initially, they are founded by the founders' personal networks, including friends and family and they actively seek additional financing to support their growth and establish a sustainable business."
   ]
  },
  {
   "cell_type": "markdown",
   "metadata": {},
   "source": [
    "As an example, the government of India's startup program defines a startup as a company (PB 2017) that is;\n",
    "-  Headquartered in India with not more than 10 years since incorporation or registration\n",
    "-  Having an annual turnover of less than 1NR Billion (Roughly $14 million)\n",
    "\n",
    "~Available~ [ADBI Working Paper series](https://www.adb.org/publications/policy-regulatory-changes-successful-startup-revolution-india)\n"
   ]
  },
  {
   "cell_type": "markdown",
   "metadata": {},
   "source": []
  }
 ],
 "metadata": {
  "language_info": {
   "name": "python"
  }
 },
 "nbformat": 4,
 "nbformat_minor": 2
}
