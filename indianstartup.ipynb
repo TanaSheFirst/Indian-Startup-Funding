{
 "cells": [
  {
   "cell_type": "markdown",
   "metadata": {},
   "source": [
    "# Indian Startup Funding Analysis"
   ]
  },
  {
   "cell_type": "markdown",
   "metadata": {},
   "source": [
    "## Business Understanding"
   ]
  },
  {
   "cell_type": "markdown",
   "metadata": {},
   "source": [
    "### Background"
   ]
  },
  {
   "cell_type": "markdown",
   "metadata": {},
   "source": [
    "A *'Startup'* in India is characterized by it's age, size and funding method, though there isn't a strict definition. Generally, a startup is a young company, only a few years old, that hasn't yet achieved any consistent revenue. These companies operate on a small scale, often with just a working prototype or a paid pilot but they have the potential for rapid growth and expansion. Initially, they are founded by the founders' personal networks, including friends and family and they actively seek additional financing to support their growth and establish a sustainable business."
   ]
  },
  {
   "cell_type": "markdown",
   "metadata": {},
   "source": [
    "As an example, the government of India's startup program defines a startup as a company (PB 2017) that is;\n",
    "-  Headquartered in India with not more than 10 years since incorporation or registration\n",
    "-  Having an annual turnover of less than 1NR Billion (Roughly $14 million)\n",
    "\n",
    "~Available~ [ADBI Working Paper series](https://www.adb.org/publications/policy-regulatory-changes-successful-startup-revolution-india)\n"
   ]
  },
  {
   "cell_type": "markdown",
   "metadata": {},
   "source": [
    "#### Scenario\n",
    "You are trying to venture intro the Indian Startup ecosytem. As the data expert of the team, you are to investigate the ecosystem and propose the best course of action."
   ]
  },
  {
   "cell_type": "markdown",
   "metadata": {},
   "source": [
    "## Business Objective;\n",
    "\n",
    "The goal of this project is to investigate the Indian Startup ecosystem to better understand and provide valuabale insight into the opportunities and challenges in the ecosystem to help stakeholders  who plan on venturing into the startup ecosystem in India to make informed decisons based on findings from analyzing the dataset from 2018 to 2021."
   ]
  },
  {
   "cell_type": "markdown",
   "metadata": {},
   "source": [
    "### Hypothesis\n",
    "\n",
    "Null;  Funding amount received by tech startups does not differ significantly from non-tech startups.\n",
    "\n",
    "Alternate; Funding amount received by tech startups differs significantly  from non-tech startups."
   ]
  },
  {
   "cell_type": "markdown",
   "metadata": {},
   "source": [
    "### Business Questions\n",
    "1. What are the funding trends over the years?\n",
    "2. Which sectors received the most funding?\n",
    "3. Who are the key investors in the Indian start-up space?\n",
    "4. What are the differences in funding by region?\n",
    "5. What strategic recommendations can be made based on the analysis?"
   ]
  },
  {
   "cell_type": "markdown",
   "metadata": {},
   "source": [
    "## Data Understanding"
   ]
  },
  {
   "cell_type": "markdown",
   "metadata": {},
   "source": [
    "<span style=\"background-color: grey\">Data Collection</span>\n",
    "\n",
    "To effectively analyze the Indian Startup ecosystem from 2018-2021, comprehensive data collection is crucial.\n",
    "The data was sourced from multiple datasets that deetail startup funding activities within this period. Each dataset will encompass various aspects essntial for a holistic understanding of the funding landscape. Soecifically, the dataset will include;\n",
    "\n",
    "**A. Startup Details**\n",
    "- Company/ Brand; Name o the company/startup\n",
    "- Fonded; Year company was founded\n",
    "- Headquarters/Location; Geographical location os the startup including city and Region\n",
    "- Sector/ Industry; The industry or sector in which the company operates,ie healthtech, fintech etc\n",
    "- What it does/ About comany; Description about the company\n",
    "- Founders; Founders of the company\n",
    "\n",
    "**B. Funding Information**\n",
    "- Amount; The total amount of funding received by the startup in each funding round\n",
    "- Stage/Round; Details of the funding stages such as seed, Series A, Series B\n",
    "\n",
    "**C. Investors Information**\n",
    "- Investors; The name of the investors or investment firms involved\n",
    "\n",
    "<span style=\"background-color: grey\">Data Quality Considerations</span>\n",
    "\n",
    "Ensuring high data quality is paramount for reliable analysis and actionable insights. Key considerations for maintaining data quality include;\n",
    "\n",
    "**A. Completeness**\n",
    "\n",
    "Ensuring that all necessary fields are filled across the datasets.This includes making sure that nocritical informatio is missing for any of the startups, funding rounds or investors.\n",
    "\n",
    "**B. Consistency**\n",
    "\n",
    "Handling any inconsistensies in data entry. This may involve standardizing entries for different sectors, locations and investor names to ensure uniformity. ie Health tech and Health Technology were standardized to a single format. \n",
    "\n",
    "**C. Handling missing Data**\n",
    "\n",
    "Identifying and addressing missing data points \n",
    "\n",
    "\n",
    "\n",
    "\n"
   ]
  },
  {
   "cell_type": "markdown",
   "metadata": {},
   "source": []
  }
 ],
 "metadata": {
  "kernelspec": {
   "display_name": "Python 3",
   "language": "python",
   "name": "python3"
  },
  "language_info": {
   "name": "python",
   "version": "3.10.9"
  }
 },
 "nbformat": 4,
 "nbformat_minor": 2
}
